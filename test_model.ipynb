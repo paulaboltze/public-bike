{
 "cells": [
  {
   "cell_type": "code",
   "execution_count": 9,
   "metadata": {},
   "outputs": [
    {
     "data": {
      "text/plain": [
       "Index(['hour', 'is_weekends', 'temp', 'rhum', 'total', 'wc_Clear', 'wc_Cloudy',\n",
       "       'wc_Fair', 'wc_Fog', 'wc_Heavy Rain', 'wc_Heavy Rain Shower',\n",
       "       'wc_Light Rain', 'wc_Light Snowfall', 'wc_Overcast', 'wc_Rain',\n",
       "       'wc_Rain Shower', 'wc_Sleet', 'wc_Thunderstorm', 'weekday_Friday',\n",
       "       'weekday_Monday', 'weekday_Saturday', 'weekday_Sunday',\n",
       "       'weekday_Thursday', 'weekday_Tuesday', 'weekday_Wednesday'],\n",
       "      dtype='object')"
      ]
     },
     "execution_count": 9,
     "metadata": {},
     "output_type": "execute_result"
    }
   ],
   "source": [
    "import pandas as pd\n",
    "import numpy as np\n",
    "import plotly.express as px\n",
    "import matplotlib.pyplot as plt\n",
    "import seaborn as sns\n",
    "from sklearn.model_selection import train_test_split\n",
    "from sklearn.tree import DecisionTreeRegressor\n",
    "from sklearn.model_selection import cross_val_score\n",
    "from sklearn import svm\n",
    "from sklearn.ensemble import RandomForestRegressor\n",
    "from sklearn.metrics import mean_absolute_error\n",
    "from sklearn.preprocessing import MinMaxScaler\n",
    "import pickle\n",
    "\n",
    "## read the file\n",
    "\n",
    "df=pd.read_csv('final_df.csv')\n",
    "\n",
    "\n",
    "df['date'] = pd.to_datetime(df[[\"year\", \"month\", \"day\"]])\n",
    "df['weekday'] = df['date'].dt.day_name()\n",
    "df = df[['hour', 'is_weekends', 'temp', 'rhum', 'wc', 'weekday','total']]\n",
    "\n",
    "df = pd.get_dummies(df)\n",
    "df.columns"
   ]
  },
  {
   "cell_type": "code",
   "execution_count": 17,
   "metadata": {},
   "outputs": [
    {
     "data": {
      "text/plain": [
       "4"
      ]
     },
     "execution_count": 17,
     "metadata": {},
     "output_type": "execute_result"
    }
   ],
   "source": [
    "import datetime\n",
    "datetime.datetime.today().weekday()"
   ]
  },
  {
   "cell_type": "code",
   "execution_count": 10,
   "metadata": {},
   "outputs": [],
   "source": [
    "\n",
    "\n",
    "## modelling\n",
    "\n",
    "X = df.drop(columns = ['total'])\n",
    "y = df['total']\n",
    "\n",
    "\n",
    "\n",
    "rf = RandomForestRegressor(max_depth=11, random_state=42)\n",
    "rf.fit(X,y)\n",
    "pickle.dump(rf, open('model.pkl','wb'))"
   ]
  },
  {
   "cell_type": "code",
   "execution_count": 12,
   "metadata": {},
   "outputs": [
    {
     "data": {
      "text/plain": [
       "Index(['hour', 'is_weekends', 'temp', 'rhum', 'wc_Clear', 'wc_Cloudy',\n",
       "       'wc_Fair', 'wc_Fog', 'wc_Heavy Rain', 'wc_Heavy Rain Shower',\n",
       "       'wc_Light Rain', 'wc_Light Snowfall', 'wc_Overcast', 'wc_Rain',\n",
       "       'wc_Rain Shower', 'wc_Sleet', 'wc_Thunderstorm', 'weekday_Friday',\n",
       "       'weekday_Monday', 'weekday_Saturday', 'weekday_Sunday',\n",
       "       'weekday_Thursday', 'weekday_Tuesday', 'weekday_Wednesday'],\n",
       "      dtype='object')"
      ]
     },
     "execution_count": 12,
     "metadata": {},
     "output_type": "execute_result"
    }
   ],
   "source": [
    "X.columns"
   ]
  },
  {
   "cell_type": "code",
   "execution_count": null,
   "metadata": {},
   "outputs": [],
   "source": []
  }
 ],
 "metadata": {
  "kernelspec": {
   "display_name": "base",
   "language": "python",
   "name": "python3"
  },
  "language_info": {
   "codemirror_mode": {
    "name": "ipython",
    "version": 3
   },
   "file_extension": ".py",
   "mimetype": "text/x-python",
   "name": "python",
   "nbconvert_exporter": "python",
   "pygments_lexer": "ipython3",
   "version": "3.9.7"
  },
  "orig_nbformat": 4
 },
 "nbformat": 4,
 "nbformat_minor": 2
}
